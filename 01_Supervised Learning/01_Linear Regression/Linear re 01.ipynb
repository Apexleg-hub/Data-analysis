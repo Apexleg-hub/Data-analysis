{
 "cells": [
  {
   "cell_type": "markdown",
   "id": "f494c1e9",
   "metadata": {},
   "source": [
    "**Linear Regression :**\n",
    "\n",
    "Linear regression is a simple way to **predict one value (like price or score)** based on another (like time or size). It finds a **straight line** that best fits your data.\n",
    "\n",
    "For example:\n",
    "\n",
    "* If you know how many hours you study (X), it can predict your test score (y).\n",
    "* The line it finds looks like:\n",
    "  **y = mx + b**, where:\n",
    "\n",
    "  * **m** is the slope (how much y changes when X increases),\n",
    "  * **b** is the y-intercept (where the line crosses the y-axis).\n",
    "\n",
    "**Why use it?**\n",
    "\n",
    "* It's fast, easy to understand, and good for spotting trends.\n",
    "\n",
    "Would you like a visual explanation or interactive example next?\n"
   ]
  },
  {
   "cell_type": "code",
   "execution_count": null,
   "id": "3654d944",
   "metadata": {},
   "outputs": [],
   "source": [
    "# -*- coding: utf-8 -*-\n",
    "import pandas as pd\n",
    "import numpy as np\n",
    "import matplotlib.pyplot as plt\n",
    "from sklearn.linear_model import LinearRegression\n",
    "\n",
    "# Load data from CSV file\n",
    "# Make sure 'data.csv' has columns named 'X' and 'y'\n",
    "data = pd.read_csv('C:/Users/USER/Desktop/Lagos_Data_School/Python Tutorial/1_Pyth/titanic/train.csv')\n",
    "\n",
    "data\n"
   ]
  },
  {
   "cell_type": "code",
   "execution_count": null,
   "id": "f86fd46c",
   "metadata": {},
   "outputs": [],
   "source": [
    "# Extract independent and dependent variables\n",
    "X = data[['X']].values\n",
    "y = data['y'].values\n",
    "\n",
    "# Create and train the model\n",
    "model = LinearRegression()\n",
    "model.fit(X, y)\n",
    "\n",
    "# Make predictions\n",
    "y_pred = model.predict(X)\n",
    "\n",
    "# Plot the results\n",
    "plt.scatter(X, y, color='blue', label='Actual')\n",
    "plt.plot(X, y_pred, color='red', label='Predicted')\n",
    "plt.xlabel('X')\n",
    "plt.ylabel('y')\n",
    "plt.title('Linear Regression with Imported Data')\n",
    "plt.legend()\n",
    "plt.show()"
   ]
  }
 ],
 "metadata": {
  "language_info": {
   "name": "python"
  }
 },
 "nbformat": 4,
 "nbformat_minor": 5
}
