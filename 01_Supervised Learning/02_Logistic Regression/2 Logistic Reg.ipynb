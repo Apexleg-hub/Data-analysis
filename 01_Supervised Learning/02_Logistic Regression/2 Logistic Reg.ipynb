{
 "cells": [
  {
   "cell_type": "markdown",
   "metadata": {},
   "source": [
    "Here’s a basic example of using logistic regression in Python with `scikit-learn`:\n",
    "\n"
   ]
  },
  {
   "cell_type": "code",
   "execution_count": null,
   "metadata": {},
   "outputs": [],
   "source": [
    "\n",
    "import numpy as np\n",
    "import pandas as pd\n",
    "from sklearn.model_selection import train_test_split\n",
    "from sklearn.linear_model import LogisticRegression\n",
    "from sklearn.metrics import accuracy_score, confusion_matrix, classification_report\n",
    "\n",
    "# Sample data (Replace this with your own dataset)\n",
    "# Let's use a simple dataset from sklearn for demonstration (e.g., Iris dataset)\n",
    "from sklearn.datasets import load_iris\n",
    "data = load_iris()\n",
    "\n",
    "# Convert to DataFrame for easier handling\n",
    "df = pd.DataFrame(data=data.data, columns=data.feature_names)\n",
    "df['target'] = data.target\n",
    "\n",
    "# For simplicity, let's predict whether the species is Iris-setosa (0) or not (1, 2)\n",
    "df['target_binary'] = df['target'].apply(lambda x: 1 if x != 0 else 0)\n",
    "\n",
    "# Features and labels\n",
    "X = df.drop(columns=['target', 'target_binary'])\n",
    "y = df['target_binary']\n",
    "\n",
    "# Split the data into training and testing sets\n",
    "X_train, X_test, y_train, y_test = train_test_split(X, y, test_size=0.3, random_state=42)\n",
    "\n",
    "# Create logistic regression model\n",
    "model = LogisticRegression()\n",
    "\n",
    "# Train the model\n",
    "model.fit(X_train, y_train)\n",
    "\n",
    "# Make predictions\n",
    "y_pred = model.predict(X_test)\n",
    "\n",
    "# Evaluate the model\n",
    "print(\"Accuracy:\", accuracy_score(y_test, y_pred))\n",
    "print(\"Confusion Matrix:\\n\", confusion_matrix(y_test, y_pred))\n",
    "print(\"Classification Report:\\n\", classification_report(y_test, y_pred))\n",
    "\n",
    "\n"
   ]
  },
  {
   "cell_type": "markdown",
   "metadata": {},
   "source": [
    "### Key Steps:\n",
    "1. **Dataset Preparation**: You can replace the sample dataset (`load_iris`) with your dataset.\n",
    "2. **Model Training**: Using `LogisticRegression()` to create and train the model.\n",
    "3. **Evaluation**: Output the accuracy, confusion matrix, and classification report to assess the model’s performance.\n",
    "\n",
    "Let me know if you want to modify it for your specific dataset or add additional functionalities!"
   ]
  }
 ],
 "metadata": {
  "language_info": {
   "name": "python"
  }
 },
 "nbformat": 4,
 "nbformat_minor": 2
}
