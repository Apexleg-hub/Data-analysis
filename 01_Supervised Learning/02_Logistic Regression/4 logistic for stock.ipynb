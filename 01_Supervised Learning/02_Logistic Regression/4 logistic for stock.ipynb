{
 "cells": [
  {
   "cell_type": "code",
   "execution_count": null,
   "metadata": {
    "vscode": {
     "languageId": "ruby"
    }
   },
   "outputs": [],
   "source": [
    "If you want to use only stock data for trading prediction without additional technical indicators (e.g., moving averages, RSI), you can still apply logistic regression by focusing on features derived from the stock's price itself, such as:\n",
    "\n",
    "- **Price changes** (e.g., daily return or price difference)\n",
    "- **Lag features** (previous day's closing prices or returns)\n",
    "- **Rolling averages** (even though it's based on stock data, it only uses past stock data)\n",
    "\n",
    "Let’s proceed by using only the stock's price data (such as the closing price) and a few basic features like daily returns and lagged closing prices.\n",
    "\n",
    "### Python Code Example:\n",
    "\n"
   ]
  },
  {
   "cell_type": "code",
   "execution_count": null,
   "metadata": {},
   "outputs": [],
   "source": [
    "\n",
    "import yfinance as yf\n",
    "import pandas as pd\n",
    "import numpy as np\n",
    "from sklearn.model_selection import train_test_split\n",
    "from sklearn.linear_model import LogisticRegression\n",
    "from sklearn.metrics import accuracy_score, confusion_matrix, classification_report\n",
    "import matplotlib.pyplot as plt\n",
    "\n",
    "# Download stock data (e.g., Apple)\n",
    "stock_data = yf.download('AAPL', start='2020-01-01', end='2023-01-01')\n",
    "\n",
    "# Feature Engineering based on stock data\n",
    "# 1. Daily Return (percentage change of closing price)\n",
    "stock_data['Daily_Return'] = stock_data['Close'].pct_change()\n",
    "\n",
    "# 2. Lagged Closing Price (previous day's closing price)\n",
    "stock_data['Lag_Close'] = stock_data['Close'].shift(1)\n",
    "\n",
    "# 3. Target: whether the next day's close price is higher (1) or lower (0) than today's close\n",
    "stock_data['Target'] = np.where(stock_data['Close'].shift(-1) > stock_data['Close'], 1, 0)\n",
    "\n",
    "# Drop rows with missing values (due to lag and pct_change)\n",
    "stock_data = stock_data.dropna()\n",
    "\n",
    "# Features and Labels\n",
    "X = stock_data[['Daily_Return', 'Lag_Close']]\n",
    "y = stock_data['Target']\n",
    "\n",
    "# Split the data into training and testing sets\n",
    "X_train, X_test, y_train, y_test = train_test_split(X, y, test_size=0.3, random_state=42)\n",
    "\n",
    "# Create and train logistic regression model\n",
    "model = LogisticRegression()\n",
    "model.fit(X_train, y_train)\n",
    "\n",
    "# Make predictions\n",
    "y_pred = model.predict(X_test)\n",
    "\n",
    "# Evaluate the model\n",
    "print(\"Accuracy:\", accuracy_score(y_test, y_pred))\n",
    "print(\"Confusion Matrix:\\n\", confusion_matrix(y_test, y_pred))\n",
    "print(\"Classification Report:\\n\", classification_report(y_test, y_pred))\n",
    "\n",
    "# Plot the actual vs predicted price movement\n",
    "plt.figure(figsize=(10, 6))\n",
    "plt.plot(stock_data.index[-len(y_test):], y_test, label=\"Actual\", alpha=0.7)\n",
    "plt.plot(stock_data.index[-len(y_test):], y_pred, label=\"Predicted\", alpha=0.7)\n",
    "plt.title('Stock Price Movement Prediction')\n",
    "plt.legend()\n",
    "plt.show()\n",
    "\n",
    "\n"
   ]
  },
  {
   "cell_type": "raw",
   "metadata": {
    "vscode": {
     "languageId": "raw"
    }
   },
   "source": [
    "### Explanation:\n",
    "\n",
    "1. **Data Download**: We download stock data for Apple (AAPL) using `yfinance` from 2020 to 2023.\n",
    "2. **Feature Engineering**:\n",
    "   - **Daily Return**: The percentage change between consecutive closing prices (calculated using `pct_change()`).\n",
    "   - **Lagged Closing Price**: The previous day's closing price as a predictor for the current day's movement.\n",
    "3. **Target Variable**: A binary target indicating whether the next day's closing price is higher (`1`) or lower (`0`) than today's close.\n",
    "4. **Model Training**: We use logistic regression to predict the target variable based on the daily return and the lagged closing price.\n",
    "5. **Evaluation**: The model's accuracy and performance are evaluated using the accuracy score, confusion matrix, and classification report.\n",
    "\n",
    "### What You Can Customize:\n",
    "- **Features**: You can include other price-based features like price differences, rolling mean changes, or even n-day returns.\n",
    "- **Target**: You can experiment with different ways to define the target, such as predicting specific percentage changes or incorporating stop-loss targets.\n",
    "\n",
    "This model uses only historical price data to predict price movement direction, making it a very basic starting point for stock prediction. \n",
    "It can be further enhanced with additional features or advanced models for better accuracy."
   ]
  }
 ],
 "metadata": {
  "language_info": {
   "name": "python"
  }
 },
 "nbformat": 4,
 "nbformat_minor": 2
}
