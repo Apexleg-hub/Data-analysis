{
 "cells": [
  {
   "cell_type": "code",
   "execution_count": 1,
   "metadata": {},
   "outputs": [
    {
     "name": "stdout",
     "output_type": "stream",
     "text": [
      "RMSE: 0.4446\n"
     ]
    }
   ],
   "source": [
    "#**CatBoost** (Categorical Boosting) is a gradient-boosting library designed to handle categorical features natively and efficiently. \n",
    "# It is particularly useful for datasets with categorical variables and requires minimal preprocessing. Here's a guide to using CatBoost in Python:\n",
    "\n",
    "#---\n",
    "\n",
    "### **1. Installation**\n",
    "\n",
    "#!pip install catboost\n",
    "\n",
    "\n",
    "#---\n",
    "\n",
    "### **2. Basic Regression Example**\n",
    "\n",
    "from catboost import CatBoostRegressor, Pool\n",
    "from sklearn.datasets import fetch_california_housing\n",
    "from sklearn.model_selection import train_test_split\n",
    "from sklearn.metrics import mean_squared_error\n",
    "\n",
    "# Load dataset\n",
    "data = fetch_california_housing()\n",
    "X, y = data.data, data.target\n",
    "\n",
    "# Split data\n",
    "X_train, X_test, y_train, y_test = train_test_split(X, y, test_size=0.2, random_state=42)\n",
    "\n",
    "# Initialize model\n",
    "model = CatBoostRegressor(\n",
    "    iterations=1000,          # Number of trees\n",
    "    learning_rate=0.1,\n",
    "    depth=6,                  # Tree depth\n",
    "    loss_function='RMSE',     # Regression metric\n",
    "    eval_metric='RMSE',\n",
    "    early_stopping_rounds=10,\n",
    "    verbose=False             # Disable training logs\n",
    ")\n",
    "\n",
    "# Train model\n",
    "model.fit(\n",
    "    X_train, y_train,\n",
    "    eval_set=(X_test, y_test),\n",
    "    cat_features=[]           # Specify categorical features (if any)\n",
    ")\n",
    "\n",
    "# Predictions\n",
    "y_pred = model.predict(X_test)\n",
    "print(f\"RMSE: {mean_squared_error(y_test, y_pred, squared=False):.4f}\")"
   ]
  },
  {
   "cell_type": "code",
   "execution_count": 2,
   "metadata": {},
   "outputs": [
    {
     "name": "stdout",
     "output_type": "stream",
     "text": [
      "Accuracy: 0.0000\n"
     ]
    }
   ],
   "source": [
    "### **3. Classification Example (with Categorical Features)**\n",
    "\n",
    "from catboost import CatBoostClassifier\n",
    "from sklearn.metrics import accuracy_score\n",
    "\n",
    "# Example dataset with categorical features\n",
    "import pandas as pd\n",
    "data = pd.DataFrame({\n",
    "    'Age': [25, 30, 35, 40],\n",
    "    'City': ['NY', 'SF', 'NY', 'LA'],  # Categorical column\n",
    "    'Salary': [70_000, 90_000, 85_000, 120_000],\n",
    "    'Target': [0, 1, 0, 1]\n",
    "})\n",
    "\n",
    "X = data.drop('Target', axis=1)\n",
    "y = data['Target']\n",
    "\n",
    "# Identify categorical features\n",
    "cat_features = ['City']  # Explicitly declare categorical columns\n",
    "\n",
    "# Split data\n",
    "X_train, X_test, y_train, y_test = train_test_split(X, y, test_size=0.2, random_state=42)\n",
    "\n",
    "# Initialize classifier\n",
    "model = CatBoostClassifier(\n",
    "    iterations=1000,\n",
    "    learning_rate=0.05,\n",
    "    depth=4,\n",
    "    loss_function='Logloss',  # Binary classification\n",
    "    eval_metric='Accuracy',\n",
    "    cat_features=cat_features,  # Automatically handles encoding\n",
    "    verbose=False\n",
    ")\n",
    "\n",
    "# Train model\n",
    "model.fit(X_train, y_train, eval_set=(X_test, y_test))\n",
    "\n",
    "# Predictions\n",
    "y_pred = model.predict(X_test)\n",
    "print(f\"Accuracy: {accuracy_score(y_test, y_pred):.4f}\")\n"
   ]
  },
  {
   "cell_type": "code",
   "execution_count": null,
   "metadata": {},
   "outputs": [],
   "source": [
    "## **4. Key Features**\n",
    "\n",
    "#### **Automatic Categorical Handling**\n",
    "#- No need for manual encoding (one-hot, label).\n",
    "#- Specify categorical columns using `cat_features`:\n",
    "\n",
    "model.fit(X, y, cat_features=[0, 2])  # Columns 0 and 2 are categorical\n",
    "  \n",
    "\n",
    "#### **GPU Acceleration**\n",
    "\n",
    "model = CatBoostClassifier(task_type='GPU', devices='0:1')  # Use GPU\n",
    "\n",
    "\n",
    "#### **Missing Value Handling**\n",
    "#- Automatically handles missing values without imputation.\n",
    "\n",
    "#### **Feature Importance**\n",
    "\n",
    "model.get_feature_importance(prettified=True)\n"
   ]
  },
  {
   "cell_type": "code",
   "execution_count": null,
   "metadata": {},
   "outputs": [],
   "source": []
  }
 ],
 "metadata": {
  "kernelspec": {
   "display_name": "mystore",
   "language": "python",
   "name": "python3"
  },
  "language_info": {
   "codemirror_mode": {
    "name": "ipython",
    "version": 3
   },
   "file_extension": ".py",
   "mimetype": "text/x-python",
   "name": "python",
   "nbconvert_exporter": "python",
   "pygments_lexer": "ipython3",
   "version": "3.10.16"
  }
 },
 "nbformat": 4,
 "nbformat_minor": 2
}
